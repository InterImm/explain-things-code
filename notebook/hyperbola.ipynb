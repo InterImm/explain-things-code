{
 "cells": [
  {
   "cell_type": "code",
   "execution_count": 53,
   "metadata": {},
   "outputs": [],
   "source": [
    "import sys\n",
    "import numpy as np\n",
    "import matplotlib.pyplot as plt\n",
    "from matplotlib.animation import FuncAnimation"
   ]
  },
  {
   "cell_type": "code",
   "execution_count": 54,
   "metadata": {},
   "outputs": [
    {
     "data": {
      "image/png": "[encoded data removed]",
      "text/plain": [
       "<Figure size 432x288 with 1 Axes>"
      ]
     },
     "metadata": {},
     "output_type": "display_data"
    }
   ],
   "source": [
    "\n",
    "v = 1\n",
    "g = 9.8\n",
    "\n",
    "def cal_x(vel, t):\n",
    "    return vel*t\n",
    "\n",
    "def cal_y(acc,t):\n",
    "    return -acc*t**2/2\n",
    "\n",
    "fig, ax = plt.subplots()\n",
    "xdata, ydata, xlines, ylines = [], [], [], []\n",
    "ffxdata = []\n",
    "vydata = []\n",
    "dpt, = plt.plot([], [], 'ko', animated=True)\n",
    "freefall, = plt.plot([], [], 'ro', animated=True)\n",
    "vhori, = plt.plot( [], [], 'bo', animated=True )\n",
    "ln, = plt.plot( [], [] )\n",
    "\n",
    "\n",
    "def init():\n",
    "    ax.set_xlim([0,10])\n",
    "    ax.set_ylim( [-500,0] )\n",
    "    ax.set_xlabel('x (whatever unit)')\n",
    "    ax.set_ylabel('y (m)')\n",
    "    ax.xaxis.tick_top()\n",
    "    ax.xaxis.set_label_position('top') \n",
    "    return (ln,dpt)\n"
   ]
  },
  {
   "cell_type": "code",
   "execution_count": 55,
   "metadata": {},
   "outputs": [],
   "source": [
    "\n",
    "def update(frame):\n",
    "    xdata.append( cal_x(v,frame) ) \n",
    "    ydata.append( cal_y(g,frame) )\n",
    "    ffxdata.append(0)\n",
    "    vydata.append(0)\n",
    "    xlines = [0,cal_x(v,frame),cal_x(v,frame) ]\n",
    "    ylines = [cal_y(g,frame),cal_y(g,frame), 0 ]\n",
    "    ax.plot( xlines, ylines, 'k--' )\n",
    "    dpt.set_data( xdata, ydata )\n",
    "    freefall.set_data( ffxdata , ydata )\n",
    "    vhori.set_data( xdata, vydata )\n",
    "\n",
    "\n",
    "    return (dpt,ln)\n",
    "\n"
   ]
  },
  {
   "cell_type": "code",
   "execution_count": 56,
   "metadata": {},
   "outputs": [],
   "source": [
    "ani = FuncAnimation(fig, update, frames=np.linspace(0, 10, 11),\n",
    "                    init_func=init, blit=True, interval=500)\n",
    "\n",
    "ani.save('hypobola.gif', dpi=80, writer='imagemagick')"
   ]
  },
  {
   "cell_type": "code",
   "execution_count": null,
   "metadata": {},
   "outputs": [],
   "source": []
  },
  {
   "cell_type": "code",
   "execution_count": 14,
   "metadata": {},
   "outputs": [
    {
     "data": {
      "text/plain": [
       "-1.764"
      ]
     },
     "execution_count": 14,
     "metadata": {},
     "output_type": "execute_result"
    }
   ],
   "source": [
    "cal_y(g,0.6)"
   ]
  },
  {
   "cell_type": "code",
   "execution_count": 57,
   "metadata": {},
   "outputs": [
    {
     "data": {
      "text/plain": [
       "0.4517539514526256"
      ]
     },
     "execution_count": 57,
     "metadata": {},
     "output_type": "execute_result"
    }
   ],
   "source": [
    "import numpy as np\n",
    "\n",
    "np.sqrt(2/9.8)"
   ]
  },
  {
   "cell_type": "code",
   "execution_count": null,
   "metadata": {},
   "outputs": [],
   "source": []
  }
 ],
 "metadata": {
  "kernelspec": {
   "display_name": "Python 3",
   "language": "python",
   "name": "python3"
  },
  "language_info": {
   "codemirror_mode": {
    "name": "ipython",
    "version": 3
   },
   "file_extension": ".py",
   "mimetype": "text/x-python",
   "name": "python",
   "nbconvert_exporter": "python",
   "pygments_lexer": "ipython3",
   "version": "3.6.5"
  }
 },
 "nbformat": 4,
 "nbformat_minor": 2
}
